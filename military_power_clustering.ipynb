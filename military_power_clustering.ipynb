{
  "nbformat": 4,
  "nbformat_minor": 0,
  "metadata": {
    "interpreter": {
      "hash": "e4e90950cb561445fc7289d5187c528b28750a487d008a70b474c773afaf79b7"
    },
    "kernelspec": {
      "display_name": "Python 3",
      "language": "python",
      "name": "python3"
    },
    "language_info": {
      "codemirror_mode": {
        "name": "ipython",
        "version": 3
      },
      "file_extension": ".py",
      "mimetype": "text/x-python",
      "name": "python",
      "nbconvert_exporter": "python",
      "pygments_lexer": "ipython3",
      "version": "3.8.11"
    },
    "colab": {
      "name": "military_power-clustering.ipynb",
      "provenance": [],
      "collapsed_sections": [
        "pHcni9Yd8AKI",
        "LnUyXAAC8AKJ",
        "v7Eqi2K28AKK",
        "8WuFtB6i8AKP",
        "RjfzLF0P8AKP"
      ],
      "include_colab_link": true
    }
  },
  "cells": [
    {
      "cell_type": "markdown",
      "metadata": {
        "id": "view-in-github",
        "colab_type": "text"
      },
      "source": [
        "<a href=\"https://colab.research.google.com/github/bugeki/ML/blob/main/military_power_clustering.ipynb\" target=\"_parent\"><img src=\"https://colab.research.google.com/assets/colab-badge.svg\" alt=\"Open In Colab\"/></a>"
      ]
    },
    {
      "cell_type": "markdown",
      "metadata": {
        "id": "0DxNKOyW8AKE"
      },
      "source": [
        "# Military Power Clustering Project\n",
        "-World military power\n",
        "Source : globalfirepower.com on 1st may 2020\n",
        "\n",
        "- https://data.world/vizzup/world-military-power/workspace/file?filename=World+military+power.xlsx\n"
      ]
    },
    {
      "cell_type": "markdown",
      "metadata": {
        "id": "pHcni9Yd8AKI"
      },
      "source": [
        "# Import Libraries"
      ]
    },
    {
      "cell_type": "code",
      "source": [
        "from google.colab import drive\n",
        "drive.mount('/content/drive')"
      ],
      "metadata": {
        "colab": {
          "base_uri": "https://localhost:8080/"
        },
        "id": "gcGtTaXv51j7",
        "outputId": "466bdb06-f736-44e6-bd11-13660e06d868"
      },
      "execution_count": 2,
      "outputs": [
        {
          "output_type": "stream",
          "name": "stdout",
          "text": [
            "Mounted at /content/drive\n"
          ]
        }
      ]
    },
    {
      "cell_type": "code",
      "source": [
        "import pandas as pd\n",
        "import numpy as np\n",
        "import matplotlib.pyplot as plt\n",
        "import seaborn as sns\n",
        "from sklearn.preprocessing import StandardScaler\n",
        "plt.rcParams[\"figure.figsize\"] = (10,6)\n",
        "import warnings\n",
        "warnings.filterwarnings('ignore')\n",
        "#pd.set_option('display.max_rows', 500)\n",
        "from sklearn.cluster import KMeans\n",
        "\n",
        "from yellowbrick.cluster import KElbowVisualizer\n",
        "from sklearn.metrics import silhouette_score\n",
        "from yellowbrick.cluster import SilhouetteVisualizer\n",
        "from sklearn.metrics import adjusted_rand_score\n",
        "from sklearn.preprocessing import StandardScaler, MinMaxScaler\n",
        "from scipy.cluster.hierarchy import dendrogram, linkage\n",
        "from sklearn.cluster import AgglomerativeClustering"
      ],
      "metadata": {
        "id": "IN4fGWEb7g5P"
      },
      "execution_count": 4,
      "outputs": []
    },
    {
      "cell_type": "code",
      "source": [
        "df = pd.read_excel(\"/content/drive/MyDrive/Colab Notebooks/ML/Ass 4/World military power.xlsx\",header=[0,1])\n",
        "df.head()"
      ],
      "metadata": {
        "colab": {
          "base_uri": "https://localhost:8080/",
          "height": 400
        },
        "id": "liShqBPG52oQ",
        "outputId": "b4962735-27c1-4377-c363-4c660c14104a"
      },
      "execution_count": 5,
      "outputs": [
        {
          "output_type": "execute_result",
          "data": {
            "text/plain": [
              "       2020 ranking                               Airforce Strength  \\\n",
              "  Military Strength Military Strength Power Index Aircraft Strength   \n",
              "0       Afghanistan                        1.3444       Afghanistan   \n",
              "1           Albania                        2.3137           Albania   \n",
              "2           Algeria                        0.4659           Algeria   \n",
              "3            Angola                        0.8379            Angola   \n",
              "4         Argentina                        0.6521         Argentina   \n",
              "\n",
              "                                                        \\\n",
              "  Aircraft Strength value Fighter/Interceptor Strength   \n",
              "0                   260.0                  Afghanistan   \n",
              "1                    19.0                      Albania   \n",
              "2                   551.0                      Algeria   \n",
              "3                   295.0                       Angola   \n",
              "4                   227.0                    Argentina   \n",
              "\n",
              "                                                               \\\n",
              "  Fighter/Interceptor Strength value Attack Aircraft Strength   \n",
              "0                                0.0              Afghanistan   \n",
              "1                                0.0                  Albania   \n",
              "2                              103.0                  Algeria   \n",
              "3                               72.0                   Angola   \n",
              "4                               24.0                Argentina   \n",
              "\n",
              "                                                                    \\\n",
              "  Attack Aircraft Strength value Transport Aircraft Fleet Strength   \n",
              "0                           25.0                       Afghanistan   \n",
              "1                            0.0                           Albania   \n",
              "2                           22.0                           Algeria   \n",
              "3                           18.0                            Angola   \n",
              "4                            7.0                         Argentina   \n",
              "\n",
              "                                           ...         Manpower  \\\n",
              "  Transport Aircraft Fleet Strength value  ... Total Population   \n",
              "0                                    30.0  ...      Afghanistan   \n",
              "1                                     0.0  ...          Albania   \n",
              "2                                    59.0  ...          Algeria   \n",
              "3                                    30.0  ...           Angola   \n",
              "4                                     9.0  ...        Argentina   \n",
              "\n",
              "                                      Geography                               \\\n",
              "  Total Population value Total Square Land Area Total Square Land Area value   \n",
              "0            3,49,40,837            Afghanistan                     6,52,230   \n",
              "1              30,57,220                Albania                      28748.0   \n",
              "2            4,16,57,488                Algeria                    23,81,741   \n",
              "3            3,03,55,880                 Angola                    12,46,700   \n",
              "4            4,46,94,198              Argentina                    27,80,400   \n",
              "\n",
              "                                                           \\\n",
              "  Total Coastline Coverage Total Coastline Coverage value   \n",
              "0              Afghanistan                            0.0   \n",
              "1                  Albania                          362.0   \n",
              "2                  Algeria                          998.0   \n",
              "3                   Angola                         1600.0   \n",
              "4                Argentina                         4989.0   \n",
              "\n",
              "                                                                               \\\n",
              "  Total Waterway Coverage Total Waterway Coverage value Total Border Coverage   \n",
              "0             Afghanistan                        1200.0           Afghanistan   \n",
              "1                 Albania                          41.0               Albania   \n",
              "2                 Algeria                           0.0               Algeria   \n",
              "3                  Angola                        1300.0                Angola   \n",
              "4               Argentina                       11000.0             Argentina   \n",
              "\n",
              "                               \n",
              "  Total Border Coverage value  \n",
              "0                      5987.0  \n",
              "1                       691.0  \n",
              "2                      6734.0  \n",
              "3                      5369.0  \n",
              "4                     11968.0  \n",
              "\n",
              "[5 rows x 60 columns]"
            ],
            "text/html": [
              "\n",
              "  <div id=\"df-da081e97-5bbe-4313-8b0c-092f21521a84\">\n",
              "    <div class=\"colab-df-container\">\n",
              "      <div>\n",
              "<style scoped>\n",
              "    .dataframe tbody tr th:only-of-type {\n",
              "        vertical-align: middle;\n",
              "    }\n",
              "\n",
              "    .dataframe tbody tr th {\n",
              "        vertical-align: top;\n",
              "    }\n",
              "\n",
              "    .dataframe thead tr th {\n",
              "        text-align: left;\n",
              "    }\n",
              "</style>\n",
              "<table border=\"1\" class=\"dataframe\">\n",
              "  <thead>\n",
              "    <tr>\n",
              "      <th></th>\n",
              "      <th colspan=\"2\" halign=\"left\">2020 ranking</th>\n",
              "      <th colspan=\"8\" halign=\"left\">Airforce Strength</th>\n",
              "      <th>...</th>\n",
              "      <th colspan=\"2\" halign=\"left\">Manpower</th>\n",
              "      <th colspan=\"8\" halign=\"left\">Geography</th>\n",
              "    </tr>\n",
              "    <tr>\n",
              "      <th></th>\n",
              "      <th>Military Strength</th>\n",
              "      <th>Military Strength Power Index</th>\n",
              "      <th>Aircraft Strength</th>\n",
              "      <th>Aircraft Strength value</th>\n",
              "      <th>Fighter/Interceptor Strength</th>\n",
              "      <th>Fighter/Interceptor Strength value</th>\n",
              "      <th>Attack Aircraft Strength</th>\n",
              "      <th>Attack Aircraft Strength value</th>\n",
              "      <th>Transport Aircraft Fleet Strength</th>\n",
              "      <th>Transport Aircraft Fleet Strength value</th>\n",
              "      <th>...</th>\n",
              "      <th>Total Population</th>\n",
              "      <th>Total Population value</th>\n",
              "      <th>Total Square Land Area</th>\n",
              "      <th>Total Square Land Area value</th>\n",
              "      <th>Total Coastline Coverage</th>\n",
              "      <th>Total Coastline Coverage value</th>\n",
              "      <th>Total Waterway Coverage</th>\n",
              "      <th>Total Waterway Coverage value</th>\n",
              "      <th>Total Border Coverage</th>\n",
              "      <th>Total Border Coverage value</th>\n",
              "    </tr>\n",
              "  </thead>\n",
              "  <tbody>\n",
              "    <tr>\n",
              "      <th>0</th>\n",
              "      <td>Afghanistan</td>\n",
              "      <td>1.3444</td>\n",
              "      <td>Afghanistan</td>\n",
              "      <td>260.0</td>\n",
              "      <td>Afghanistan</td>\n",
              "      <td>0.0</td>\n",
              "      <td>Afghanistan</td>\n",
              "      <td>25.0</td>\n",
              "      <td>Afghanistan</td>\n",
              "      <td>30.0</td>\n",
              "      <td>...</td>\n",
              "      <td>Afghanistan</td>\n",
              "      <td>3,49,40,837</td>\n",
              "      <td>Afghanistan</td>\n",
              "      <td>6,52,230</td>\n",
              "      <td>Afghanistan</td>\n",
              "      <td>0.0</td>\n",
              "      <td>Afghanistan</td>\n",
              "      <td>1200.0</td>\n",
              "      <td>Afghanistan</td>\n",
              "      <td>5987.0</td>\n",
              "    </tr>\n",
              "    <tr>\n",
              "      <th>1</th>\n",
              "      <td>Albania</td>\n",
              "      <td>2.3137</td>\n",
              "      <td>Albania</td>\n",
              "      <td>19.0</td>\n",
              "      <td>Albania</td>\n",
              "      <td>0.0</td>\n",
              "      <td>Albania</td>\n",
              "      <td>0.0</td>\n",
              "      <td>Albania</td>\n",
              "      <td>0.0</td>\n",
              "      <td>...</td>\n",
              "      <td>Albania</td>\n",
              "      <td>30,57,220</td>\n",
              "      <td>Albania</td>\n",
              "      <td>28748.0</td>\n",
              "      <td>Albania</td>\n",
              "      <td>362.0</td>\n",
              "      <td>Albania</td>\n",
              "      <td>41.0</td>\n",
              "      <td>Albania</td>\n",
              "      <td>691.0</td>\n",
              "    </tr>\n",
              "    <tr>\n",
              "      <th>2</th>\n",
              "      <td>Algeria</td>\n",
              "      <td>0.4659</td>\n",
              "      <td>Algeria</td>\n",
              "      <td>551.0</td>\n",
              "      <td>Algeria</td>\n",
              "      <td>103.0</td>\n",
              "      <td>Algeria</td>\n",
              "      <td>22.0</td>\n",
              "      <td>Algeria</td>\n",
              "      <td>59.0</td>\n",
              "      <td>...</td>\n",
              "      <td>Algeria</td>\n",
              "      <td>4,16,57,488</td>\n",
              "      <td>Algeria</td>\n",
              "      <td>23,81,741</td>\n",
              "      <td>Algeria</td>\n",
              "      <td>998.0</td>\n",
              "      <td>Algeria</td>\n",
              "      <td>0.0</td>\n",
              "      <td>Algeria</td>\n",
              "      <td>6734.0</td>\n",
              "    </tr>\n",
              "    <tr>\n",
              "      <th>3</th>\n",
              "      <td>Angola</td>\n",
              "      <td>0.8379</td>\n",
              "      <td>Angola</td>\n",
              "      <td>295.0</td>\n",
              "      <td>Angola</td>\n",
              "      <td>72.0</td>\n",
              "      <td>Angola</td>\n",
              "      <td>18.0</td>\n",
              "      <td>Angola</td>\n",
              "      <td>30.0</td>\n",
              "      <td>...</td>\n",
              "      <td>Angola</td>\n",
              "      <td>3,03,55,880</td>\n",
              "      <td>Angola</td>\n",
              "      <td>12,46,700</td>\n",
              "      <td>Angola</td>\n",
              "      <td>1600.0</td>\n",
              "      <td>Angola</td>\n",
              "      <td>1300.0</td>\n",
              "      <td>Angola</td>\n",
              "      <td>5369.0</td>\n",
              "    </tr>\n",
              "    <tr>\n",
              "      <th>4</th>\n",
              "      <td>Argentina</td>\n",
              "      <td>0.6521</td>\n",
              "      <td>Argentina</td>\n",
              "      <td>227.0</td>\n",
              "      <td>Argentina</td>\n",
              "      <td>24.0</td>\n",
              "      <td>Argentina</td>\n",
              "      <td>7.0</td>\n",
              "      <td>Argentina</td>\n",
              "      <td>9.0</td>\n",
              "      <td>...</td>\n",
              "      <td>Argentina</td>\n",
              "      <td>4,46,94,198</td>\n",
              "      <td>Argentina</td>\n",
              "      <td>27,80,400</td>\n",
              "      <td>Argentina</td>\n",
              "      <td>4989.0</td>\n",
              "      <td>Argentina</td>\n",
              "      <td>11000.0</td>\n",
              "      <td>Argentina</td>\n",
              "      <td>11968.0</td>\n",
              "    </tr>\n",
              "  </tbody>\n",
              "</table>\n",
              "<p>5 rows × 60 columns</p>\n",
              "</div>\n",
              "      <button class=\"colab-df-convert\" onclick=\"convertToInteractive('df-da081e97-5bbe-4313-8b0c-092f21521a84')\"\n",
              "              title=\"Convert this dataframe to an interactive table.\"\n",
              "              style=\"display:none;\">\n",
              "        \n",
              "  <svg xmlns=\"http://www.w3.org/2000/svg\" height=\"24px\"viewBox=\"0 0 24 24\"\n",
              "       width=\"24px\">\n",
              "    <path d=\"M0 0h24v24H0V0z\" fill=\"none\"/>\n",
              "    <path d=\"M18.56 5.44l.94 2.06.94-2.06 2.06-.94-2.06-.94-.94-2.06-.94 2.06-2.06.94zm-11 1L8.5 8.5l.94-2.06 2.06-.94-2.06-.94L8.5 2.5l-.94 2.06-2.06.94zm10 10l.94 2.06.94-2.06 2.06-.94-2.06-.94-.94-2.06-.94 2.06-2.06.94z\"/><path d=\"M17.41 7.96l-1.37-1.37c-.4-.4-.92-.59-1.43-.59-.52 0-1.04.2-1.43.59L10.3 9.45l-7.72 7.72c-.78.78-.78 2.05 0 2.83L4 21.41c.39.39.9.59 1.41.59.51 0 1.02-.2 1.41-.59l7.78-7.78 2.81-2.81c.8-.78.8-2.07 0-2.86zM5.41 20L4 18.59l7.72-7.72 1.47 1.35L5.41 20z\"/>\n",
              "  </svg>\n",
              "      </button>\n",
              "      \n",
              "  <style>\n",
              "    .colab-df-container {\n",
              "      display:flex;\n",
              "      flex-wrap:wrap;\n",
              "      gap: 12px;\n",
              "    }\n",
              "\n",
              "    .colab-df-convert {\n",
              "      background-color: #E8F0FE;\n",
              "      border: none;\n",
              "      border-radius: 50%;\n",
              "      cursor: pointer;\n",
              "      display: none;\n",
              "      fill: #1967D2;\n",
              "      height: 32px;\n",
              "      padding: 0 0 0 0;\n",
              "      width: 32px;\n",
              "    }\n",
              "\n",
              "    .colab-df-convert:hover {\n",
              "      background-color: #E2EBFA;\n",
              "      box-shadow: 0px 1px 2px rgba(60, 64, 67, 0.3), 0px 1px 3px 1px rgba(60, 64, 67, 0.15);\n",
              "      fill: #174EA6;\n",
              "    }\n",
              "\n",
              "    [theme=dark] .colab-df-convert {\n",
              "      background-color: #3B4455;\n",
              "      fill: #D2E3FC;\n",
              "    }\n",
              "\n",
              "    [theme=dark] .colab-df-convert:hover {\n",
              "      background-color: #434B5C;\n",
              "      box-shadow: 0px 1px 3px 1px rgba(0, 0, 0, 0.15);\n",
              "      filter: drop-shadow(0px 1px 2px rgba(0, 0, 0, 0.3));\n",
              "      fill: #FFFFFF;\n",
              "    }\n",
              "  </style>\n",
              "\n",
              "      <script>\n",
              "        const buttonEl =\n",
              "          document.querySelector('#df-da081e97-5bbe-4313-8b0c-092f21521a84 button.colab-df-convert');\n",
              "        buttonEl.style.display =\n",
              "          google.colab.kernel.accessAllowed ? 'block' : 'none';\n",
              "\n",
              "        async function convertToInteractive(key) {\n",
              "          const element = document.querySelector('#df-da081e97-5bbe-4313-8b0c-092f21521a84');\n",
              "          const dataTable =\n",
              "            await google.colab.kernel.invokeFunction('convertToInteractive',\n",
              "                                                     [key], {});\n",
              "          if (!dataTable) return;\n",
              "\n",
              "          const docLinkHtml = 'Like what you see? Visit the ' +\n",
              "            '<a target=\"_blank\" href=https://colab.research.google.com/notebooks/data_table.ipynb>data table notebook</a>'\n",
              "            + ' to learn more about interactive tables.';\n",
              "          element.innerHTML = '';\n",
              "          dataTable['output_type'] = 'display_data';\n",
              "          await google.colab.output.renderOutput(dataTable, element);\n",
              "          const docLink = document.createElement('div');\n",
              "          docLink.innerHTML = docLinkHtml;\n",
              "          element.appendChild(docLink);\n",
              "        }\n",
              "      </script>\n",
              "    </div>\n",
              "  </div>\n",
              "  "
            ]
          },
          "metadata": {},
          "execution_count": 5
        }
      ]
    },
    {
      "cell_type": "markdown",
      "metadata": {
        "id": "LnUyXAAC8AKJ"
      },
      "source": [
        "# Ingest Data  "
      ]
    },
    {
      "cell_type": "code",
      "source": [
        "df.describe()"
      ],
      "metadata": {
        "colab": {
          "base_uri": "https://localhost:8080/",
          "height": 482
        },
        "id": "7sVO-9wk965T",
        "outputId": "23a8a0d3-80bf-46dd-d545-5d569286de9d"
      },
      "execution_count": 13,
      "outputs": [
        {
          "output_type": "execute_result",
          "data": {
            "text/plain": [
              "                       2020 ranking       Airforce Strength  \\\n",
              "      Military Strength Power Index Aircraft Strength value   \n",
              "count                    138.000000              138.000000   \n",
              "mean                       1.460716              388.471014   \n",
              "std                        1.324018             1231.981859   \n",
              "min                        0.060600                0.000000   \n",
              "25%                        0.574800               33.000000   \n",
              "50%                        1.034100              111.000000   \n",
              "75%                        2.021525              290.250000   \n",
              "max                       10.168100            13264.000000   \n",
              "\n",
              "                                                                         \\\n",
              "      Fighter/Interceptor Strength value Attack Aircraft Strength value   \n",
              "count                         138.000000                     138.000000   \n",
              "mean                           81.565217                      25.760870   \n",
              "std                           230.324777                      94.528222   \n",
              "min                             0.000000                       0.000000   \n",
              "25%                             0.000000                       0.000000   \n",
              "50%                            17.000000                       0.000000   \n",
              "75%                            60.500000                      15.750000   \n",
              "max                          2085.000000                     742.000000   \n",
              "\n",
              "                                                                            \\\n",
              "      Transport Aircraft Fleet Strength value Trainer Aircraft Fleet value   \n",
              "count                              138.000000                   138.000000   \n",
              "mean                                30.231884                    82.833333   \n",
              "std                                 92.330436                   240.803721   \n",
              "min                                  0.000000                     0.000000   \n",
              "25%                                  3.000000                     4.250000   \n",
              "50%                                  9.000000                    26.000000   \n",
              "75%                                 26.000000                    79.250000   \n",
              "max                                945.000000                  2643.000000   \n",
              "\n",
              "                                                                              \\\n",
              "      Helicopter Fleet Strength value Attack Helicopter Fleet Strength value   \n",
              "count                      138.000000                             138.000000   \n",
              "mean                       154.065217                              25.623188   \n",
              "std                        520.183631                              97.326091   \n",
              "min                          0.000000                               0.000000   \n",
              "25%                         15.250000                               0.000000   \n",
              "50%                         44.000000                               2.000000   \n",
              "75%                        126.750000                              17.750000   \n",
              "max                       5768.000000                             967.000000   \n",
              "\n",
              "            Land Strength                         \\\n",
              "      Tank Strength value AFV/APC Strength value   \n",
              "count          138.000000             138.000000   \n",
              "mean           646.565217            2485.695652   \n",
              "std           1515.463683            5410.546392   \n",
              "min              0.000000               0.000000   \n",
              "25%             19.250000             250.250000   \n",
              "50%            153.000000             734.500000   \n",
              "75%            436.250000            2000.000000   \n",
              "max          12950.000000           39253.000000   \n",
              "\n",
              "                                                                              \\\n",
              "      Self-Propelled Artillery Strength value Towed Artillery Strength value   \n",
              "count                              138.000000                     138.000000   \n",
              "mean                               212.159420                     393.978261   \n",
              "std                                688.028987                     805.781703   \n",
              "min                                  0.000000                       0.000000   \n",
              "25%                                  0.000000                      24.250000   \n",
              "50%                                 23.000000                     108.000000   \n",
              "75%                                 97.250000                     296.500000   \n",
              "max                               6083.000000                    4465.000000   \n",
              "\n",
              "                                                   Navy Strength  \\\n",
              "      Rocket Projector Strength value Navy Fleet Strengths value   \n",
              "count                      138.000000                 124.000000   \n",
              "mean                       156.934783                  84.983871   \n",
              "std                        484.380984                 146.114165   \n",
              "min                          0.000000                   0.000000   \n",
              "25%                          0.000000                  10.000000   \n",
              "50%                         24.000000                  38.000000   \n",
              "75%                         99.750000                  77.750000   \n",
              "max                       3860.000000                 984.000000   \n",
              "\n",
              "                                                                            \\\n",
              "      Aircraft Carrier Fleet Strength value Submarine Fleet Strength value   \n",
              "count                            115.000000                     115.000000   \n",
              "mean                               0.382609                       4.800000   \n",
              "std                                1.971653                      13.706958   \n",
              "min                                0.000000                       0.000000   \n",
              "25%                                0.000000                       0.000000   \n",
              "50%                                0.000000                       0.000000   \n",
              "75%                                0.000000                       4.000000   \n",
              "max                               20.000000                      83.000000   \n",
              "\n",
              "                                                                   \\\n",
              "      Destroyer Fleet Strength value Frigate Fleet Strength value   \n",
              "count                     115.000000                   115.000000   \n",
              "mean                        2.052174                     3.521739   \n",
              "std                        10.000740                     6.481211   \n",
              "min                         0.000000                     0.000000   \n",
              "25%                         0.000000                     0.000000   \n",
              "50%                         0.000000                     0.000000   \n",
              "75%                         0.000000                     5.500000   \n",
              "max                        91.000000                    52.000000   \n",
              "\n",
              "                 Logistics                   Geography  \n",
              "      Airport Totals value Total Border Coverage value  \n",
              "count           138.000000                  129.000000  \n",
              "mean            290.043478                 3964.224806  \n",
              "std            1212.967393                 3760.099671  \n",
              "min               2.000000                   29.000000  \n",
              "25%              33.500000                 1587.000000  \n",
              "50%              68.000000                 2816.000000  \n",
              "75%             150.750000                 5267.000000  \n",
              "max           13513.000000                22457.000000  "
            ],
            "text/html": [
              "\n",
              "  <div id=\"df-50a2561d-9c32-4f4a-a2bd-4336351e9c58\">\n",
              "    <div class=\"colab-df-container\">\n",
              "      <div>\n",
              "<style scoped>\n",
              "    .dataframe tbody tr th:only-of-type {\n",
              "        vertical-align: middle;\n",
              "    }\n",
              "\n",
              "    .dataframe tbody tr th {\n",
              "        vertical-align: top;\n",
              "    }\n",
              "\n",
              "    .dataframe thead tr th {\n",
              "        text-align: left;\n",
              "    }\n",
              "</style>\n",
              "<table border=\"1\" class=\"dataframe\">\n",
              "  <thead>\n",
              "    <tr>\n",
              "      <th></th>\n",
              "      <th>2020 ranking</th>\n",
              "      <th colspan=\"7\" halign=\"left\">Airforce Strength</th>\n",
              "      <th colspan=\"5\" halign=\"left\">Land Strength</th>\n",
              "      <th colspan=\"5\" halign=\"left\">Navy Strength</th>\n",
              "      <th>Logistics</th>\n",
              "      <th>Geography</th>\n",
              "    </tr>\n",
              "    <tr>\n",
              "      <th></th>\n",
              "      <th>Military Strength Power Index</th>\n",
              "      <th>Aircraft Strength value</th>\n",
              "      <th>Fighter/Interceptor Strength value</th>\n",
              "      <th>Attack Aircraft Strength value</th>\n",
              "      <th>Transport Aircraft Fleet Strength value</th>\n",
              "      <th>Trainer Aircraft Fleet value</th>\n",
              "      <th>Helicopter Fleet Strength value</th>\n",
              "      <th>Attack Helicopter Fleet Strength value</th>\n",
              "      <th>Tank Strength value</th>\n",
              "      <th>AFV/APC Strength value</th>\n",
              "      <th>Self-Propelled Artillery Strength value</th>\n",
              "      <th>Towed Artillery Strength value</th>\n",
              "      <th>Rocket Projector Strength value</th>\n",
              "      <th>Navy Fleet Strengths value</th>\n",
              "      <th>Aircraft Carrier Fleet Strength value</th>\n",
              "      <th>Submarine Fleet Strength value</th>\n",
              "      <th>Destroyer Fleet Strength value</th>\n",
              "      <th>Frigate Fleet Strength value</th>\n",
              "      <th>Airport Totals value</th>\n",
              "      <th>Total Border Coverage value</th>\n",
              "    </tr>\n",
              "  </thead>\n",
              "  <tbody>\n",
              "    <tr>\n",
              "      <th>count</th>\n",
              "      <td>138.000000</td>\n",
              "      <td>138.000000</td>\n",
              "      <td>138.000000</td>\n",
              "      <td>138.000000</td>\n",
              "      <td>138.000000</td>\n",
              "      <td>138.000000</td>\n",
              "      <td>138.000000</td>\n",
              "      <td>138.000000</td>\n",
              "      <td>138.000000</td>\n",
              "      <td>138.000000</td>\n",
              "      <td>138.000000</td>\n",
              "      <td>138.000000</td>\n",
              "      <td>138.000000</td>\n",
              "      <td>124.000000</td>\n",
              "      <td>115.000000</td>\n",
              "      <td>115.000000</td>\n",
              "      <td>115.000000</td>\n",
              "      <td>115.000000</td>\n",
              "      <td>138.000000</td>\n",
              "      <td>129.000000</td>\n",
              "    </tr>\n",
              "    <tr>\n",
              "      <th>mean</th>\n",
              "      <td>1.460716</td>\n",
              "      <td>388.471014</td>\n",
              "      <td>81.565217</td>\n",
              "      <td>25.760870</td>\n",
              "      <td>30.231884</td>\n",
              "      <td>82.833333</td>\n",
              "      <td>154.065217</td>\n",
              "      <td>25.623188</td>\n",
              "      <td>646.565217</td>\n",
              "      <td>2485.695652</td>\n",
              "      <td>212.159420</td>\n",
              "      <td>393.978261</td>\n",
              "      <td>156.934783</td>\n",
              "      <td>84.983871</td>\n",
              "      <td>0.382609</td>\n",
              "      <td>4.800000</td>\n",
              "      <td>2.052174</td>\n",
              "      <td>3.521739</td>\n",
              "      <td>290.043478</td>\n",
              "      <td>3964.224806</td>\n",
              "    </tr>\n",
              "    <tr>\n",
              "      <th>std</th>\n",
              "      <td>1.324018</td>\n",
              "      <td>1231.981859</td>\n",
              "      <td>230.324777</td>\n",
              "      <td>94.528222</td>\n",
              "      <td>92.330436</td>\n",
              "      <td>240.803721</td>\n",
              "      <td>520.183631</td>\n",
              "      <td>97.326091</td>\n",
              "      <td>1515.463683</td>\n",
              "      <td>5410.546392</td>\n",
              "      <td>688.028987</td>\n",
              "      <td>805.781703</td>\n",
              "      <td>484.380984</td>\n",
              "      <td>146.114165</td>\n",
              "      <td>1.971653</td>\n",
              "      <td>13.706958</td>\n",
              "      <td>10.000740</td>\n",
              "      <td>6.481211</td>\n",
              "      <td>1212.967393</td>\n",
              "      <td>3760.099671</td>\n",
              "    </tr>\n",
              "    <tr>\n",
              "      <th>min</th>\n",
              "      <td>0.060600</td>\n",
              "      <td>0.000000</td>\n",
              "      <td>0.000000</td>\n",
              "      <td>0.000000</td>\n",
              "      <td>0.000000</td>\n",
              "      <td>0.000000</td>\n",
              "      <td>0.000000</td>\n",
              "      <td>0.000000</td>\n",
              "      <td>0.000000</td>\n",
              "      <td>0.000000</td>\n",
              "      <td>0.000000</td>\n",
              "      <td>0.000000</td>\n",
              "      <td>0.000000</td>\n",
              "      <td>0.000000</td>\n",
              "      <td>0.000000</td>\n",
              "      <td>0.000000</td>\n",
              "      <td>0.000000</td>\n",
              "      <td>0.000000</td>\n",
              "      <td>2.000000</td>\n",
              "      <td>29.000000</td>\n",
              "    </tr>\n",
              "    <tr>\n",
              "      <th>25%</th>\n",
              "      <td>0.574800</td>\n",
              "      <td>33.000000</td>\n",
              "      <td>0.000000</td>\n",
              "      <td>0.000000</td>\n",
              "      <td>3.000000</td>\n",
              "      <td>4.250000</td>\n",
              "      <td>15.250000</td>\n",
              "      <td>0.000000</td>\n",
              "      <td>19.250000</td>\n",
              "      <td>250.250000</td>\n",
              "      <td>0.000000</td>\n",
              "      <td>24.250000</td>\n",
              "      <td>0.000000</td>\n",
              "      <td>10.000000</td>\n",
              "      <td>0.000000</td>\n",
              "      <td>0.000000</td>\n",
              "      <td>0.000000</td>\n",
              "      <td>0.000000</td>\n",
              "      <td>33.500000</td>\n",
              "      <td>1587.000000</td>\n",
              "    </tr>\n",
              "    <tr>\n",
              "      <th>50%</th>\n",
              "      <td>1.034100</td>\n",
              "      <td>111.000000</td>\n",
              "      <td>17.000000</td>\n",
              "      <td>0.000000</td>\n",
              "      <td>9.000000</td>\n",
              "      <td>26.000000</td>\n",
              "      <td>44.000000</td>\n",
              "      <td>2.000000</td>\n",
              "      <td>153.000000</td>\n",
              "      <td>734.500000</td>\n",
              "      <td>23.000000</td>\n",
              "      <td>108.000000</td>\n",
              "      <td>24.000000</td>\n",
              "      <td>38.000000</td>\n",
              "      <td>0.000000</td>\n",
              "      <td>0.000000</td>\n",
              "      <td>0.000000</td>\n",
              "      <td>0.000000</td>\n",
              "      <td>68.000000</td>\n",
              "      <td>2816.000000</td>\n",
              "    </tr>\n",
              "    <tr>\n",
              "      <th>75%</th>\n",
              "      <td>2.021525</td>\n",
              "      <td>290.250000</td>\n",
              "      <td>60.500000</td>\n",
              "      <td>15.750000</td>\n",
              "      <td>26.000000</td>\n",
              "      <td>79.250000</td>\n",
              "      <td>126.750000</td>\n",
              "      <td>17.750000</td>\n",
              "      <td>436.250000</td>\n",
              "      <td>2000.000000</td>\n",
              "      <td>97.250000</td>\n",
              "      <td>296.500000</td>\n",
              "      <td>99.750000</td>\n",
              "      <td>77.750000</td>\n",
              "      <td>0.000000</td>\n",
              "      <td>4.000000</td>\n",
              "      <td>0.000000</td>\n",
              "      <td>5.500000</td>\n",
              "      <td>150.750000</td>\n",
              "      <td>5267.000000</td>\n",
              "    </tr>\n",
              "    <tr>\n",
              "      <th>max</th>\n",
              "      <td>10.168100</td>\n",
              "      <td>13264.000000</td>\n",
              "      <td>2085.000000</td>\n",
              "      <td>742.000000</td>\n",
              "      <td>945.000000</td>\n",
              "      <td>2643.000000</td>\n",
              "      <td>5768.000000</td>\n",
              "      <td>967.000000</td>\n",
              "      <td>12950.000000</td>\n",
              "      <td>39253.000000</td>\n",
              "      <td>6083.000000</td>\n",
              "      <td>4465.000000</td>\n",
              "      <td>3860.000000</td>\n",
              "      <td>984.000000</td>\n",
              "      <td>20.000000</td>\n",
              "      <td>83.000000</td>\n",
              "      <td>91.000000</td>\n",
              "      <td>52.000000</td>\n",
              "      <td>13513.000000</td>\n",
              "      <td>22457.000000</td>\n",
              "    </tr>\n",
              "  </tbody>\n",
              "</table>\n",
              "</div>\n",
              "      <button class=\"colab-df-convert\" onclick=\"convertToInteractive('df-50a2561d-9c32-4f4a-a2bd-4336351e9c58')\"\n",
              "              title=\"Convert this dataframe to an interactive table.\"\n",
              "              style=\"display:none;\">\n",
              "        \n",
              "  <svg xmlns=\"http://www.w3.org/2000/svg\" height=\"24px\"viewBox=\"0 0 24 24\"\n",
              "       width=\"24px\">\n",
              "    <path d=\"M0 0h24v24H0V0z\" fill=\"none\"/>\n",
              "    <path d=\"M18.56 5.44l.94 2.06.94-2.06 2.06-.94-2.06-.94-.94-2.06-.94 2.06-2.06.94zm-11 1L8.5 8.5l.94-2.06 2.06-.94-2.06-.94L8.5 2.5l-.94 2.06-2.06.94zm10 10l.94 2.06.94-2.06 2.06-.94-2.06-.94-.94-2.06-.94 2.06-2.06.94z\"/><path d=\"M17.41 7.96l-1.37-1.37c-.4-.4-.92-.59-1.43-.59-.52 0-1.04.2-1.43.59L10.3 9.45l-7.72 7.72c-.78.78-.78 2.05 0 2.83L4 21.41c.39.39.9.59 1.41.59.51 0 1.02-.2 1.41-.59l7.78-7.78 2.81-2.81c.8-.78.8-2.07 0-2.86zM5.41 20L4 18.59l7.72-7.72 1.47 1.35L5.41 20z\"/>\n",
              "  </svg>\n",
              "      </button>\n",
              "      \n",
              "  <style>\n",
              "    .colab-df-container {\n",
              "      display:flex;\n",
              "      flex-wrap:wrap;\n",
              "      gap: 12px;\n",
              "    }\n",
              "\n",
              "    .colab-df-convert {\n",
              "      background-color: #E8F0FE;\n",
              "      border: none;\n",
              "      border-radius: 50%;\n",
              "      cursor: pointer;\n",
              "      display: none;\n",
              "      fill: #1967D2;\n",
              "      height: 32px;\n",
              "      padding: 0 0 0 0;\n",
              "      width: 32px;\n",
              "    }\n",
              "\n",
              "    .colab-df-convert:hover {\n",
              "      background-color: #E2EBFA;\n",
              "      box-shadow: 0px 1px 2px rgba(60, 64, 67, 0.3), 0px 1px 3px 1px rgba(60, 64, 67, 0.15);\n",
              "      fill: #174EA6;\n",
              "    }\n",
              "\n",
              "    [theme=dark] .colab-df-convert {\n",
              "      background-color: #3B4455;\n",
              "      fill: #D2E3FC;\n",
              "    }\n",
              "\n",
              "    [theme=dark] .colab-df-convert:hover {\n",
              "      background-color: #434B5C;\n",
              "      box-shadow: 0px 1px 3px 1px rgba(0, 0, 0, 0.15);\n",
              "      filter: drop-shadow(0px 1px 2px rgba(0, 0, 0, 0.3));\n",
              "      fill: #FFFFFF;\n",
              "    }\n",
              "  </style>\n",
              "\n",
              "      <script>\n",
              "        const buttonEl =\n",
              "          document.querySelector('#df-50a2561d-9c32-4f4a-a2bd-4336351e9c58 button.colab-df-convert');\n",
              "        buttonEl.style.display =\n",
              "          google.colab.kernel.accessAllowed ? 'block' : 'none';\n",
              "\n",
              "        async function convertToInteractive(key) {\n",
              "          const element = document.querySelector('#df-50a2561d-9c32-4f4a-a2bd-4336351e9c58');\n",
              "          const dataTable =\n",
              "            await google.colab.kernel.invokeFunction('convertToInteractive',\n",
              "                                                     [key], {});\n",
              "          if (!dataTable) return;\n",
              "\n",
              "          const docLinkHtml = 'Like what you see? Visit the ' +\n",
              "            '<a target=\"_blank\" href=https://colab.research.google.com/notebooks/data_table.ipynb>data table notebook</a>'\n",
              "            + ' to learn more about interactive tables.';\n",
              "          element.innerHTML = '';\n",
              "          dataTable['output_type'] = 'display_data';\n",
              "          await google.colab.output.renderOutput(dataTable, element);\n",
              "          const docLink = document.createElement('div');\n",
              "          docLink.innerHTML = docLinkHtml;\n",
              "          element.appendChild(docLink);\n",
              "        }\n",
              "      </script>\n",
              "    </div>\n",
              "  </div>\n",
              "  "
            ]
          },
          "metadata": {},
          "execution_count": 13
        }
      ]
    },
    {
      "cell_type": "code",
      "metadata": {
        "id": "enCbGulB8AKK",
        "colab": {
          "base_uri": "https://localhost:8080/"
        },
        "outputId": "0955c9f8-9d29-484d-bf71-76c337f35157"
      },
      "source": [
        "df.info()"
      ],
      "execution_count": 6,
      "outputs": [
        {
          "output_type": "stream",
          "name": "stdout",
          "text": [
            "<class 'pandas.core.frame.DataFrame'>\n",
            "RangeIndex: 138 entries, 0 to 137\n",
            "Data columns (total 60 columns):\n",
            " #   Column                                                        Non-Null Count  Dtype  \n",
            "---  ------                                                        --------------  -----  \n",
            " 0   (2020 ranking, Military Strength)                             138 non-null    object \n",
            " 1   (2020 ranking, Military Strength Power Index)                 138 non-null    float64\n",
            " 2   (Airforce Strength, Aircraft Strength)                        138 non-null    object \n",
            " 3   (Airforce Strength, Aircraft Strength value)                  138 non-null    float64\n",
            " 4   (Airforce Strength, Fighter/Interceptor Strength)             138 non-null    object \n",
            " 5   (Airforce Strength, Fighter/Interceptor Strength value)       138 non-null    float64\n",
            " 6   (Airforce Strength, Attack Aircraft Strength)                 138 non-null    object \n",
            " 7   (Airforce Strength, Attack Aircraft Strength value)           138 non-null    float64\n",
            " 8   (Airforce Strength, Transport Aircraft Fleet Strength)        138 non-null    object \n",
            " 9   (Airforce Strength, Transport Aircraft Fleet Strength value)  138 non-null    float64\n",
            " 10  (Airforce Strength, Trainer Aircraft Fleet)                   138 non-null    object \n",
            " 11  (Airforce Strength, Trainer Aircraft Fleet value)             138 non-null    float64\n",
            " 12  (Airforce Strength, Helicopter Fleet Strength)                138 non-null    object \n",
            " 13  (Airforce Strength, Helicopter Fleet Strength value)          138 non-null    float64\n",
            " 14  (Airforce Strength, Attack Helicopter Fleet Strength)         138 non-null    object \n",
            " 15  (Airforce Strength, Attack Helicopter Fleet Strength value)   138 non-null    float64\n",
            " 16  (Land Strength, Tank Strength)                                138 non-null    object \n",
            " 17  (Land Strength, Tank Strength value)                          138 non-null    float64\n",
            " 18  (Land Strength, AFV/APC Strength)                             138 non-null    object \n",
            " 19  (Land Strength, AFV/APC Strength value)                       138 non-null    float64\n",
            " 20  (Land Strength, Self-Propelled Artillery Strength)            138 non-null    object \n",
            " 21  (Land Strength, Self-Propelled Artillery Strength value)      138 non-null    float64\n",
            " 22  (Land Strength, Towed Artillery Strength)                     138 non-null    object \n",
            " 23  (Land Strength, Towed Artillery Strength value)               138 non-null    float64\n",
            " 24  (Land Strength, Rocket Projector Strength)                    138 non-null    object \n",
            " 25  (Land Strength, Rocket Projector Strength value)              138 non-null    float64\n",
            " 26  (Navy Strength, Navy Fleet Strengths)                         124 non-null    object \n",
            " 27  (Navy Strength, Navy Fleet Strengths value)                   124 non-null    float64\n",
            " 28  (Navy Strength, Aircraft Carrier Fleet Strength)              115 non-null    object \n",
            " 29  (Navy Strength, Aircraft Carrier Fleet Strength value)        115 non-null    float64\n",
            " 30  (Navy Strength, Submarine Fleet Strength)                     115 non-null    object \n",
            " 31  (Navy Strength, Submarine Fleet Strength value)               115 non-null    float64\n",
            " 32  (Navy Strength, Destroyer Fleet Strength)                     115 non-null    object \n",
            " 33  (Navy Strength, Destroyer Fleet Strength value)               115 non-null    float64\n",
            " 34  (Navy Strength, Frigate Fleet Strength)                       115 non-null    object \n",
            " 35  (Navy Strength, Frigate Fleet Strength value)                 115 non-null    float64\n",
            " 36  (Finances, defense spending budget)                           138 non-null    object \n",
            " 37  (Finances, defense spending budget value)                     138 non-null    object \n",
            " 38  (Finances, External Debt)                                     138 non-null    object \n",
            " 39  (Finances, External Debt value)                               138 non-null    object \n",
            " 40  (Logistics, Airport Totals)                                   138 non-null    object \n",
            " 41  (Logistics, Airport Totals value)                             138 non-null    float64\n",
            " 42  (Natural resources, Oil Production)                           138 non-null    object \n",
            " 43  (Natural resources, Oil Production value)                     138 non-null    object \n",
            " 44  (Natural resources, Oil Consumption)                          138 non-null    object \n",
            " 45  (Natural resources, Oil Consumption value)                    138 non-null    object \n",
            " 46  (Natural resources, Proven Oil Reserves)                      138 non-null    object \n",
            " 47  (Natural resources, Proven Oil Reserves value)                138 non-null    object \n",
            " 48  (Manpower, Available Manpower)                                138 non-null    object \n",
            " 49  (Manpower, Available Manpower value)                          138 non-null    object \n",
            " 50  (Manpower, Total Population)                                  138 non-null    object \n",
            " 51  (Manpower, Total Population value)                            138 non-null    object \n",
            " 52  (Geography, Total Square Land Area)                           138 non-null    object \n",
            " 53  (Geography, Total Square Land Area value)                     138 non-null    object \n",
            " 54  (Geography, Total Coastline Coverage)                         109 non-null    object \n",
            " 55  (Geography, Total Coastline Coverage value)                   109 non-null    object \n",
            " 56  (Geography, Total Waterway Coverage)                          138 non-null    object \n",
            " 57  (Geography, Total Waterway Coverage value)                    138 non-null    object \n",
            " 58  (Geography, Total Border Coverage)                            129 non-null    object \n",
            " 59  (Geography, Total Border Coverage value)                      129 non-null    float64\n",
            "dtypes: float64(20), object(40)\n",
            "memory usage: 64.8+ KB\n"
          ]
        }
      ]
    },
    {
      "cell_type": "markdown",
      "metadata": {
        "id": "v7Eqi2K28AKK"
      },
      "source": [
        "# EDA"
      ]
    },
    {
      "cell_type": "code",
      "metadata": {
        "id": "QxAbx-Y98AKK"
      },
      "source": [
        "df = df.rename(columns={'Military Strength': 'Country'})"
      ],
      "execution_count": 10,
      "outputs": []
    },
    {
      "cell_type": "code",
      "source": [
        "df.shape"
      ],
      "metadata": {
        "colab": {
          "base_uri": "https://localhost:8080/"
        },
        "id": "pQhQ1PHJ90D0",
        "outputId": "e993142b-354c-4ee5-d3cb-7da0bc60fec3"
      },
      "execution_count": 11,
      "outputs": [
        {
          "output_type": "execute_result",
          "data": {
            "text/plain": [
              "(138, 60)"
            ]
          },
          "metadata": {},
          "execution_count": 11
        }
      ]
    },
    {
      "cell_type": "code",
      "source": [
        "df.isna().sum().any()"
      ],
      "metadata": {
        "colab": {
          "base_uri": "https://localhost:8080/"
        },
        "id": "miflqYFi-DCE",
        "outputId": "47a7f18c-9d70-4853-ddcc-55025c960aeb"
      },
      "execution_count": 14,
      "outputs": [
        {
          "output_type": "execute_result",
          "data": {
            "text/plain": [
              "True"
            ]
          },
          "metadata": {},
          "execution_count": 14
        }
      ]
    },
    {
      "cell_type": "code",
      "source": [
        "df.duplicated().sum()"
      ],
      "metadata": {
        "colab": {
          "base_uri": "https://localhost:8080/"
        },
        "id": "D4Ted0N9-Ds7",
        "outputId": "29d418f2-e9fa-460f-ec05-28fc7f118055"
      },
      "execution_count": 15,
      "outputs": [
        {
          "output_type": "execute_result",
          "data": {
            "text/plain": [
              "0"
            ]
          },
          "metadata": {},
          "execution_count": 15
        }
      ]
    },
    {
      "cell_type": "code",
      "source": [
        "\n",
        "df.columns"
      ],
      "metadata": {
        "colab": {
          "base_uri": "https://localhost:8080/"
        },
        "id": "Ex23X8p9-Lml",
        "outputId": "d3ba4023-8060-40c3-881a-54c0ef8ed71f"
      },
      "execution_count": 16,
      "outputs": [
        {
          "output_type": "execute_result",
          "data": {
            "text/plain": [
              "MultiIndex([(     '2020 ranking',                                 'Country'),\n",
              "            (     '2020 ranking',           'Military Strength Power Index'),\n",
              "            ('Airforce Strength',                       'Aircraft Strength'),\n",
              "            ('Airforce Strength',                 'Aircraft Strength value'),\n",
              "            ('Airforce Strength',            'Fighter/Interceptor Strength'),\n",
              "            ('Airforce Strength',      'Fighter/Interceptor Strength value'),\n",
              "            ('Airforce Strength',                'Attack Aircraft Strength'),\n",
              "            ('Airforce Strength',          'Attack Aircraft Strength value'),\n",
              "            ('Airforce Strength',       'Transport Aircraft Fleet Strength'),\n",
              "            ('Airforce Strength', 'Transport Aircraft Fleet Strength value'),\n",
              "            ('Airforce Strength',                  'Trainer Aircraft Fleet'),\n",
              "            ('Airforce Strength',            'Trainer Aircraft Fleet value'),\n",
              "            ('Airforce Strength',               'Helicopter Fleet Strength'),\n",
              "            ('Airforce Strength',         'Helicopter Fleet Strength value'),\n",
              "            ('Airforce Strength',        'Attack Helicopter Fleet Strength'),\n",
              "            ('Airforce Strength',  'Attack Helicopter Fleet Strength value'),\n",
              "            (    'Land Strength',                           'Tank Strength'),\n",
              "            (    'Land Strength',                     'Tank Strength value'),\n",
              "            (    'Land Strength',                        'AFV/APC Strength'),\n",
              "            (    'Land Strength',                  'AFV/APC Strength value'),\n",
              "            (    'Land Strength',       'Self-Propelled Artillery Strength'),\n",
              "            (    'Land Strength', 'Self-Propelled Artillery Strength value'),\n",
              "            (    'Land Strength',                'Towed Artillery Strength'),\n",
              "            (    'Land Strength',          'Towed Artillery Strength value'),\n",
              "            (    'Land Strength',               'Rocket Projector Strength'),\n",
              "            (    'Land Strength',         'Rocket Projector Strength value'),\n",
              "            (    'Navy Strength',                    'Navy Fleet Strengths'),\n",
              "            (    'Navy Strength',              'Navy Fleet Strengths value'),\n",
              "            (    'Navy Strength',         'Aircraft Carrier Fleet Strength'),\n",
              "            (    'Navy Strength',   'Aircraft Carrier Fleet Strength value'),\n",
              "            (    'Navy Strength',                'Submarine Fleet Strength'),\n",
              "            (    'Navy Strength',          'Submarine Fleet Strength value'),\n",
              "            (    'Navy Strength',                'Destroyer Fleet Strength'),\n",
              "            (    'Navy Strength',          'Destroyer Fleet Strength value'),\n",
              "            (    'Navy Strength',                  'Frigate Fleet Strength'),\n",
              "            (    'Navy Strength',            'Frigate Fleet Strength value'),\n",
              "            (         'Finances',                 'defense spending budget'),\n",
              "            (         'Finances',           'defense spending budget value'),\n",
              "            (         'Finances',                           'External Debt'),\n",
              "            (         'Finances',                     'External Debt value'),\n",
              "            (        'Logistics',                          'Airport Totals'),\n",
              "            (        'Logistics',                    'Airport Totals value'),\n",
              "            ('Natural resources',                          'Oil Production'),\n",
              "            ('Natural resources',                    'Oil Production value'),\n",
              "            ('Natural resources',                         'Oil Consumption'),\n",
              "            ('Natural resources',                   'Oil Consumption value'),\n",
              "            ('Natural resources',                     'Proven Oil Reserves'),\n",
              "            ('Natural resources',               'Proven Oil Reserves value'),\n",
              "            (         'Manpower',                      'Available Manpower'),\n",
              "            (         'Manpower',                'Available Manpower value'),\n",
              "            (         'Manpower',                        'Total Population'),\n",
              "            (         'Manpower',                  'Total Population value'),\n",
              "            (        'Geography',                  'Total Square Land Area'),\n",
              "            (        'Geography',            'Total Square Land Area value'),\n",
              "            (        'Geography',                'Total Coastline Coverage'),\n",
              "            (        'Geography',          'Total Coastline Coverage value'),\n",
              "            (        'Geography',                 'Total Waterway Coverage'),\n",
              "            (        'Geography',           'Total Waterway Coverage value'),\n",
              "            (        'Geography',                   'Total Border Coverage'),\n",
              "            (        'Geography',             'Total Border Coverage value')],\n",
              "           )"
            ]
          },
          "metadata": {},
          "execution_count": 16
        }
      ]
    },
    {
      "cell_type": "code",
      "source": [
        ""
      ],
      "metadata": {
        "id": "_Osy6U9h-wpP"
      },
      "execution_count": null,
      "outputs": []
    },
    {
      "cell_type": "code",
      "source": [
        ""
      ],
      "metadata": {
        "id": "fGkrFCK_-wb2"
      },
      "execution_count": null,
      "outputs": []
    },
    {
      "cell_type": "markdown",
      "metadata": {
        "id": "EoAk59FU8AKL"
      },
      "source": [
        "## Implement basic steps to see how is your data looks like"
      ]
    },
    {
      "cell_type": "code",
      "metadata": {
        "id": "PU3d2cKt8AKL"
      },
      "source": [
        ""
      ],
      "execution_count": null,
      "outputs": []
    },
    {
      "cell_type": "markdown",
      "metadata": {
        "id": "oSiUeb-I8AKL"
      },
      "source": [
        "## Convert multi index columns to one level"
      ]
    },
    {
      "cell_type": "code",
      "metadata": {
        "id": "aTcr2roB8AKM"
      },
      "source": [
        ""
      ],
      "execution_count": null,
      "outputs": []
    },
    {
      "cell_type": "markdown",
      "metadata": {
        "id": "9AHJyubO8AKM"
      },
      "source": [
        "## Detect and drop duplicated columns"
      ]
    },
    {
      "cell_type": "code",
      "metadata": {
        "id": "zb_hDNB08AKM"
      },
      "source": [
        ""
      ],
      "execution_count": null,
      "outputs": []
    },
    {
      "cell_type": "markdown",
      "metadata": {
        "id": "D-WNWchf8AKM"
      },
      "source": [
        "## Check for missing values "
      ]
    },
    {
      "cell_type": "code",
      "metadata": {
        "id": "Hp9q9ILT8AKN"
      },
      "source": [
        ""
      ],
      "execution_count": null,
      "outputs": []
    },
    {
      "cell_type": "markdown",
      "metadata": {
        "id": "T-aAEYmI8AKN"
      },
      "source": [
        "## Deal with missing values \n",
        "* Hint-1, use wikipedia to fill in missing values ​​comparing with similar countries\n",
        "* Hint-2, Georeferences of countries can help you"
      ]
    },
    {
      "cell_type": "code",
      "metadata": {
        "id": "wtUZNcXq8AKN"
      },
      "source": [
        ""
      ],
      "execution_count": null,
      "outputs": []
    },
    {
      "cell_type": "markdown",
      "metadata": {
        "id": "OpG3lbXj8AKN"
      },
      "source": [
        "## Fix the dtypes"
      ]
    },
    {
      "cell_type": "code",
      "metadata": {
        "id": "uTPH08uK8AKO"
      },
      "source": [
        ""
      ],
      "execution_count": null,
      "outputs": []
    },
    {
      "cell_type": "markdown",
      "metadata": {
        "id": "hGGYZWU58AKO"
      },
      "source": [
        "## Drop the features that not affect military power\n",
        "* Hint-1,  Georeferences not proper features"
      ]
    },
    {
      "cell_type": "code",
      "metadata": {
        "id": "B09VrwdB8AKO"
      },
      "source": [
        ""
      ],
      "execution_count": null,
      "outputs": []
    },
    {
      "cell_type": "markdown",
      "metadata": {
        "id": "_Q9a0ODT8AKO"
      },
      "source": [
        "## Visualy inspect the some features"
      ]
    },
    {
      "cell_type": "code",
      "metadata": {
        "id": "6xQ6MEDy8AKO"
      },
      "source": [
        ""
      ],
      "execution_count": null,
      "outputs": []
    },
    {
      "cell_type": "markdown",
      "metadata": {
        "id": "J4kKwd4y8AKP"
      },
      "source": [
        "## Decriptive statistics"
      ]
    },
    {
      "cell_type": "code",
      "metadata": {
        "id": "MRfNR8p_8AKP"
      },
      "source": [
        ""
      ],
      "execution_count": null,
      "outputs": []
    },
    {
      "cell_type": "markdown",
      "metadata": {
        "id": "8WuFtB6i8AKP"
      },
      "source": [
        "# Data Preprocessing"
      ]
    },
    {
      "cell_type": "code",
      "metadata": {
        "id": "8PjRKofq8AKP"
      },
      "source": [
        ""
      ],
      "execution_count": null,
      "outputs": []
    },
    {
      "cell_type": "markdown",
      "metadata": {
        "id": "RjfzLF0P8AKP"
      },
      "source": [
        "# Modelling"
      ]
    },
    {
      "cell_type": "code",
      "metadata": {
        "id": "Jnan1N358AKP"
      },
      "source": [
        ""
      ],
      "execution_count": null,
      "outputs": []
    },
    {
      "cell_type": "markdown",
      "metadata": {
        "id": "dR6v_MwP8AKQ"
      },
      "source": [
        "## Hopkins Test \n",
        "#### Assess the clusterability of a dataset. A score between 0 and 1, a score around 0.5 express no clusterability, a score tending to 1 express an uniform distrubution so clustering can't be useful and  0 express  not an uniform distrubution hence clusterering can be useful."
      ]
    },
    {
      "cell_type": "markdown",
      "metadata": {
        "id": "MwuhI45E8AKQ"
      },
      "source": [
        ""
      ]
    },
    {
      "cell_type": "markdown",
      "metadata": {
        "id": "hupFwh2N8AKQ"
      },
      "source": [
        "## Clustering with K-means"
      ]
    },
    {
      "cell_type": "code",
      "metadata": {
        "id": "Xg4jD_8o8AKQ"
      },
      "source": [
        ""
      ],
      "execution_count": null,
      "outputs": []
    },
    {
      "cell_type": "markdown",
      "metadata": {
        "id": "BRWQmu6H8AKQ"
      },
      "source": [
        "### Elbow Method \n",
        "### We use this method to find optimal k value by looking up to break point of graph. "
      ]
    },
    {
      "cell_type": "code",
      "metadata": {
        "id": "bJsKrZaA8AKQ"
      },
      "source": [
        ""
      ],
      "execution_count": null,
      "outputs": []
    },
    {
      "cell_type": "markdown",
      "metadata": {
        "id": "mFJFx-Fg8AKR"
      },
      "source": [
        "### Model Building and label visualisation"
      ]
    },
    {
      "cell_type": "code",
      "metadata": {
        "id": "G0ygI1998AKR"
      },
      "source": [
        ""
      ],
      "execution_count": null,
      "outputs": []
    },
    {
      "cell_type": "markdown",
      "metadata": {
        "id": "bj8H_Fmr8AKR"
      },
      "source": [
        "### Evaluate "
      ]
    },
    {
      "cell_type": "code",
      "metadata": {
        "id": "h_oGrBIS8AKR"
      },
      "source": [
        ""
      ],
      "execution_count": null,
      "outputs": []
    },
    {
      "cell_type": "markdown",
      "metadata": {
        "id": "eLzoqvfI8AKR"
      },
      "source": [
        "## Hierarchical Clustering"
      ]
    },
    {
      "cell_type": "code",
      "metadata": {
        "id": "BF5xL3HF8AKS"
      },
      "source": [
        ""
      ],
      "execution_count": null,
      "outputs": []
    },
    {
      "cell_type": "markdown",
      "metadata": {
        "id": "hZZd6NX_8AKS"
      },
      "source": [
        "### Dendogram"
      ]
    },
    {
      "cell_type": "code",
      "metadata": {
        "id": "0834lMh08AKS"
      },
      "source": [
        ""
      ],
      "execution_count": null,
      "outputs": []
    },
    {
      "cell_type": "markdown",
      "metadata": {
        "id": "nOhjvMZN8AKS"
      },
      "source": [
        "### Model Building and label visualisation"
      ]
    },
    {
      "cell_type": "code",
      "metadata": {
        "id": "-OmyaWc_8AKS"
      },
      "source": [
        ""
      ],
      "execution_count": null,
      "outputs": []
    },
    {
      "cell_type": "markdown",
      "metadata": {
        "id": "GMdiayVk8AKT"
      },
      "source": [
        "### Evaluate "
      ]
    },
    {
      "cell_type": "code",
      "metadata": {
        "id": "AyWIsy3P8AKT"
      },
      "source": [
        ""
      ],
      "execution_count": null,
      "outputs": []
    },
    {
      "cell_type": "code",
      "metadata": {
        "id": "ae5r4ScQ8AKZ"
      },
      "source": [
        ""
      ],
      "execution_count": null,
      "outputs": []
    }
  ]
}